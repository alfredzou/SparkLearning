{
 "cells": [
  {
   "cell_type": "code",
   "execution_count": 1,
   "id": "dfefba20-7bac-4f39-98c4-d8398c78f862",
   "metadata": {
    "scrolled": true
   },
   "outputs": [
    {
     "name": "stderr",
     "output_type": "stream",
     "text": [
      "24/05/22 12:13:43 WARN Utils: Your hostname, DESKTOP-RJFPN4L resolves to a loopback address: 127.0.1.1; using 172.24.64.142 instead (on interface eth0)\n",
      "24/05/22 12:13:43 WARN Utils: Set SPARK_LOCAL_IP if you need to bind to another address\n",
      "Setting default log level to \"WARN\".\n",
      "To adjust logging level use sc.setLogLevel(newLevel). For SparkR, use setLogLevel(newLevel).\n",
      "24/05/22 12:13:45 WARN NativeCodeLoader: Unable to load native-hadoop library for your platform... using builtin-java classes where applicable\n",
      "24/05/22 12:13:46 WARN Utils: Service 'SparkUI' could not bind on port 4040. Attempting port 4041.\n"
     ]
    }
   ],
   "source": [
    "from pyspark.sql import SparkSession, types\n",
    "\n",
    "spark = SparkSession.builder \\\n",
    "        .master(\"local[*]\") \\\n",
    "        .appName('test') \\\n",
    "        .getOrCreate()"
   ]
  },
  {
   "cell_type": "code",
   "execution_count": 46,
   "id": "6d4aa58b-0947-48a4-bd85-394e55ec5168",
   "metadata": {
    "scrolled": true
   },
   "outputs": [
    {
     "name": "stdout",
     "output_type": "stream",
     "text": [
      "+--------+--------------------+---------------------+------------------+----------+------------+------------+---------------+-------------+-----------+-----+-------+----------+------------+---------+---------------------+------------+------------+---------+--------------------+\n",
      "|VendorID|lpep_pickup_datetime|lpep_dropoff_datetime|store_and_fwd_flag|RatecodeID|PULocationID|DOLocationID|passenger_count|trip_distance|fare_amount|extra|mta_tax|tip_amount|tolls_amount|ehail_fee|improvement_surcharge|total_amount|payment_type|trip_type|congestion_surcharge|\n",
      "+--------+--------------------+---------------------+------------------+----------+------------+------------+---------------+-------------+-----------+-----+-------+----------+------------+---------+---------------------+------------+------------+---------+--------------------+\n",
      "|       2| 2020-01-29 13:42:10|  2020-01-29 13:48:24|                 N|         1|           7|         193|              3|         0.91|        6.0|  0.0|    0.5|      1.36|         0.0|     NULL|                  0.3|        8.16|           1|        1|                 0.0|\n",
      "|       2| 2020-01-24 17:39:13|  2020-01-24 17:49:10|                 N|         1|         181|         257|              1|         1.79|        8.5|  1.0|    0.5|       0.0|         0.0|     NULL|                  0.3|        10.3|           2|        1|                 0.0|\n",
      "|       2| 2020-01-27 09:14:48|  2020-01-27 09:15:35|                 N|         1|         207|         207|              1|          0.0|        2.5|  0.0|    0.5|       0.0|         0.0|     NULL|                  0.3|         3.3|           2|        1|                 0.0|\n",
      "|       2| 2020-01-07 16:13:20|  2020-01-07 16:26:45|                 N|         1|          97|         189|              2|         1.41|        9.5|  1.0|    0.5|      2.26|         0.0|     NULL|                  0.3|       13.56|           1|        1|                 0.0|\n",
      "|       2| 2020-01-03 08:05:40|  2020-01-03 08:17:11|                 N|         1|         260|           7|              3|         1.47|        9.0|  0.0|    0.5|       0.0|         0.0|     NULL|                  0.3|         9.8|           2|        1|                 0.0|\n",
      "|       2| 2020-01-29 22:02:13|  2020-01-29 22:08:55|                 N|         1|         129|          82|              1|         0.81|        5.5|  0.5|    0.5|       0.0|         0.0|     NULL|                  0.3|         6.8|           2|        1|                 0.0|\n",
      "|    NULL| 2020-01-10 16:15:00|  2020-01-10 16:42:00|              NULL|      NULL|          25|         188|           NULL|         3.73|       14.6|  0.0|    0.0|       0.0|         0.0|     NULL|                  0.3|        14.9|        NULL|     NULL|                NULL|\n",
      "|       2| 2020-01-31 10:51:35|  2020-01-31 11:04:40|                 N|         1|          74|          41|              1|         1.76|       10.0|  0.0|    0.5|       0.0|         0.0|     NULL|                  0.3|        10.8|           2|        1|                 0.0|\n",
      "|       2| 2020-01-21 15:54:44|  2020-01-21 16:04:15|                 N|         1|          41|          74|              1|         0.99|        7.5|  0.0|    0.5|       0.0|         0.0|     NULL|                  0.3|         8.3|           2|        1|                 0.0|\n",
      "|    NULL| 2020-01-28 11:22:00|  2020-01-28 11:36:00|              NULL|      NULL|         242|          31|           NULL|         2.89|      22.93| 2.75|    0.5|       0.0|         0.0|     NULL|                  0.3|       26.48|        NULL|     NULL|                NULL|\n",
      "|       2| 2020-01-27 22:24:24|  2020-01-27 22:38:48|                 N|         1|          95|         121|              1|         2.86|       12.5|  0.5|    0.5|       0.0|         0.0|     NULL|                  0.3|        13.8|           2|        1|                 0.0|\n",
      "|    NULL| 2020-01-09 12:31:00|  2020-01-09 12:35:00|              NULL|      NULL|          76|          76|           NULL|         0.37|        8.0|  0.0|    0.5|       0.0|         0.0|     NULL|                  0.3|         8.8|        NULL|     NULL|                NULL|\n",
      "|       2| 2020-01-13 15:56:03|  2020-01-13 16:18:50|                 N|         1|         116|         142|              1|         4.89|       20.5|  1.0|    0.5|       2.5|         0.0|     NULL|                  0.3|       27.55|           1|        1|                2.75|\n",
      "|       1| 2020-01-11 13:05:42|  2020-01-11 13:09:18|                 N|         1|          24|         166|              1|          0.6|        4.5|  0.0|    0.5|       0.0|         0.0|     NULL|                  0.3|         5.3|           2|        1|                 0.0|\n",
      "|       2| 2020-01-22 21:21:42|  2020-01-22 21:24:23|                 N|         1|          41|          74|              1|         0.64|        4.5|  0.5|    0.5|       2.0|         0.0|     NULL|                  0.3|         7.8|           1|        1|                 0.0|\n",
      "|    NULL| 2020-01-29 21:41:00|  2020-01-29 21:54:00|              NULL|      NULL|          74|          69|           NULL|         2.95|      20.34| 2.75|    0.0|       0.0|         0.0|     NULL|                  0.3|       23.39|        NULL|     NULL|                NULL|\n",
      "|       2| 2020-01-31 16:42:42|  2020-01-31 17:04:19|                 N|         1|         260|          82|              1|         1.48|       13.5|  1.0|    0.5|       0.0|         0.0|     NULL|                  0.3|        15.3|           2|        1|                 0.0|\n",
      "|       2| 2020-01-07 15:33:21|  2020-01-07 15:42:54|                 N|         1|           7|         226|              1|         1.14|        8.0|  0.0|    0.5|       2.2|         0.0|     NULL|                  0.3|        11.0|           1|        1|                 0.0|\n",
      "|       2| 2020-01-12 00:57:58|  2020-01-12 01:02:30|                 N|         1|         166|         151|              1|         0.76|        5.0|  0.5|    0.5|       0.0|         0.0|     NULL|                  0.3|         6.3|           2|        1|                 0.0|\n",
      "|       2| 2020-01-04 18:32:15|  2020-01-04 18:39:26|                 N|         1|         223|         223|              5|         0.81|        6.0|  0.0|    0.5|      1.36|         0.0|     NULL|                  0.3|        8.16|           1|        1|                 0.0|\n",
      "+--------+--------------------+---------------------+------------------+----------+------------+------------+---------------+-------------+-----------+-----+-------+----------+------------+---------+---------------------+------------+------------+---------+--------------------+\n",
      "only showing top 20 rows\n",
      "\n"
     ]
    }
   ],
   "source": [
    "green = spark.read.parquet('../data/pq/green/*/*/')\n",
    "green.show()"
   ]
  },
  {
   "cell_type": "code",
   "execution_count": 35,
   "id": "59bc900e-55e1-4f3b-b001-c0c39982cdc6",
   "metadata": {
    "scrolled": true
   },
   "outputs": [
    {
     "name": "stdout",
     "output_type": "stream",
     "text": [
      "+--------+--------------------+---------------------+---------------+-------------+----------+------------------+------------+------------+------------+-----------+-----+-------+----------+------------+---------------------+------------+--------------------+\n",
      "|VendorID|tpep_pickup_datetime|tpep_dropoff_datetime|passenger_count|trip_distance|RatecodeID|store_and_fwd_flag|PULocationID|DOLocationID|payment_type|fare_amount|extra|mta_tax|tip_amount|tolls_amount|improvement_surcharge|total_amount|congestion_surcharge|\n",
      "+--------+--------------------+---------------------+---------------+-------------+----------+------------------+------------+------------+------------+-----------+-----+-------+----------+------------+---------------------+------------+--------------------+\n",
      "|       2| 2020-01-08 13:40:30|  2020-01-08 13:55:37|              1|         2.61|         1|                 N|         234|         237|           1|       12.0|  0.0|    0.5|      3.06|         0.0|                  0.3|       18.36|                 2.5|\n",
      "|       1| 2020-01-11 13:27:45|  2020-01-11 13:35:38|              1|          1.6|         1|                 N|         100|         249|           1|        7.5|  2.5|    0.5|      2.15|         0.0|                  0.3|       12.95|                 2.5|\n",
      "|       2| 2020-01-04 09:57:26|  2020-01-04 10:16:50|              1|         4.39|         1|                 N|         244|         238|           2|       18.0|  0.0|    0.5|       0.0|         0.0|                  0.3|        21.3|                 2.5|\n",
      "|       1| 2020-01-13 07:22:33|  2020-01-13 07:37:27|              1|          2.3|         1|                 N|         186|         142|           2|       11.5|  2.5|    0.5|       0.0|         0.0|                  0.3|        14.8|                 2.5|\n",
      "|       1| 2020-01-31 18:09:50|  2020-01-31 18:30:32|              1|          1.9|         1|                 N|         100|         234|           1|       13.5|  3.5|    0.5|       0.0|         0.0|                  0.3|        17.8|                 2.5|\n",
      "|       1| 2020-01-19 11:13:08|  2020-01-19 11:31:05|              1|          2.9|         1|                 N|         140|          48|           2|       13.5|  3.0|    0.5|       0.0|         0.0|                  0.3|        17.3|                 2.5|\n",
      "|       1| 2020-01-28 12:48:37|  2020-01-28 12:55:45|              1|          1.0|         1|                 N|         238|         142|           2|        6.5|  2.5|    0.5|       0.0|         0.0|                  0.3|         9.8|                 2.5|\n",
      "|       1| 2020-01-13 12:01:37|  2020-01-13 12:06:31|              1|          0.8|         1|                 N|          41|         151|           2|        5.5|  0.0|    0.5|       0.0|         0.0|                  0.3|         6.3|                 0.0|\n",
      "|       2| 2020-01-27 19:14:53|  2020-01-27 19:29:15|              1|         2.41|         1|                 N|         239|         263|           1|       12.0|  1.0|    0.5|      3.26|         0.0|                  0.3|       19.56|                 2.5|\n",
      "|       2| 2020-01-30 20:29:52|  2020-01-30 20:35:31|              1|         1.83|         1|                 N|         141|          75|           2|        7.5|  0.5|    0.5|       0.0|         0.0|                  0.3|        11.3|                 2.5|\n",
      "|       2| 2020-01-30 20:02:51|  2020-01-30 20:08:55|              1|         0.59|         1|                 N|         162|         229|           1|        5.5|  0.5|    0.5|      1.86|         0.0|                  0.3|       11.16|                 2.5|\n",
      "|       1| 2020-01-12 12:36:28|  2020-01-12 12:42:53|              2|          1.2|         1|                 N|          87|          45|           2|        6.5|  2.5|    0.5|       0.0|         0.0|                  0.3|         9.8|                 2.5|\n",
      "|       1| 2020-01-09 13:59:20|  2020-01-09 14:03:33|              1|          0.6|         1|                 N|         125|         211|           1|        5.0|  2.5|    0.5|      2.05|         0.0|                  0.3|       10.35|                 2.5|\n",
      "|       2| 2020-01-26 04:43:57|  2020-01-26 04:46:24|              1|         0.32|         1|                 N|          79|         107|           2|        3.5|  0.5|    0.5|       0.0|         0.0|                  0.3|         7.3|                 2.5|\n",
      "|       1| 2020-01-18 18:59:38|  2020-01-18 19:13:04|              4|          1.9|         1|                 N|         246|         113|           2|       10.0|  2.5|    0.5|       0.0|         0.0|                  0.3|        13.3|                 2.5|\n",
      "|       2| 2020-01-18 15:06:22|  2020-01-18 15:13:39|              6|         1.22|         1|                 N|         246|         234|           2|        6.5|  0.0|    0.5|       0.0|         0.0|                  0.3|         9.8|                 2.5|\n",
      "|       2| 2020-01-08 14:55:02|  2020-01-08 15:26:08|              1|          4.6|         1|                 N|         114|         143|           1|       21.5|  0.0|    0.5|       4.0|         0.0|                  0.3|        28.8|                 2.5|\n",
      "|       2| 2020-01-11 09:00:22|  2020-01-11 09:17:56|              1|         6.91|         1|                 N|         261|         237|           1|       22.0|  0.0|    0.5|       1.8|         0.0|                  0.3|        27.1|                 2.5|\n",
      "|       1| 2020-01-09 19:59:53|  2020-01-09 20:08:32|              1|          1.4|         1|                 N|         161|         237|           1|        8.0|  3.5|    0.5|       1.0|         0.0|                  0.3|        13.3|                 2.5|\n",
      "|       2| 2020-01-24 11:57:17|  2020-01-24 12:08:02|              1|         1.51|         1|                 N|         163|         140|           1|        8.5|  0.0|    0.5|      2.36|         0.0|                  0.3|       14.16|                 2.5|\n",
      "+--------+--------------------+---------------------+---------------+-------------+----------+------------------+------------+------------+------------+-----------+-----+-------+----------+------------+---------------------+------------+--------------------+\n",
      "only showing top 20 rows\n",
      "\n"
     ]
    }
   ],
   "source": [
    "yellow = spark.read.parquet('../data/pq/yellow/*/*/')\n",
    "yellow.show()"
   ]
  },
  {
   "cell_type": "code",
   "execution_count": 42,
   "id": "4c8d6b53-fcd0-45d4-8e32-664a031437a8",
   "metadata": {},
   "outputs": [
    {
     "data": {
      "text/plain": [
       "['VendorID',\n",
       " 'tpep_pickup_datetime',\n",
       " 'tpep_dropoff_datetime',\n",
       " 'passenger_count',\n",
       " 'trip_distance',\n",
       " 'RatecodeID',\n",
       " 'store_and_fwd_flag',\n",
       " 'PULocationID',\n",
       " 'DOLocationID',\n",
       " 'payment_type',\n",
       " 'fare_amount',\n",
       " 'extra',\n",
       " 'mta_tax',\n",
       " 'tip_amount',\n",
       " 'tolls_amount',\n",
       " 'improvement_surcharge',\n",
       " 'total_amount',\n",
       " 'congestion_surcharge']"
      ]
     },
     "execution_count": 42,
     "metadata": {},
     "output_type": "execute_result"
    }
   ],
   "source": [
    "yellow.columns"
   ]
  },
  {
   "cell_type": "code",
   "execution_count": 40,
   "id": "d82d9502-52f0-4078-be4c-5036e5dda16a",
   "metadata": {},
   "outputs": [
    {
     "data": {
      "text/plain": [
       "['VendorID',\n",
       " 'lpep_pickup_datetime',\n",
       " 'lpep_dropoff_datetime',\n",
       " 'store_and_fwd_flag',\n",
       " 'RatecodeID',\n",
       " 'PULocationID',\n",
       " 'DOLocationID',\n",
       " 'passenger_count',\n",
       " 'trip_distance',\n",
       " 'fare_amount',\n",
       " 'extra',\n",
       " 'mta_tax',\n",
       " 'tip_amount',\n",
       " 'tolls_amount',\n",
       " 'ehail_fee',\n",
       " 'improvement_surcharge',\n",
       " 'total_amount',\n",
       " 'payment_type',\n",
       " 'trip_type',\n",
       " 'congestion_surcharge']"
      ]
     },
     "execution_count": 40,
     "metadata": {},
     "output_type": "execute_result"
    }
   ],
   "source": [
    "green.columns"
   ]
  },
  {
   "cell_type": "code",
   "execution_count": 50,
   "id": "0ea09789-169c-44ab-a05a-7e9313e7e226",
   "metadata": {},
   "outputs": [
    {
     "data": {
      "text/plain": [
       "['VendorID',\n",
       " 'pickup_datetime',\n",
       " 'dropoff_datetime',\n",
       " 'store_and_fwd_flag',\n",
       " 'RatecodeID',\n",
       " 'PULocationID',\n",
       " 'DOLocationID',\n",
       " 'passenger_count',\n",
       " 'trip_distance',\n",
       " 'fare_amount',\n",
       " 'extra',\n",
       " 'mta_tax',\n",
       " 'tip_amount',\n",
       " 'tolls_amount',\n",
       " 'ehail_fee',\n",
       " 'improvement_surcharge',\n",
       " 'total_amount',\n",
       " 'payment_type',\n",
       " 'trip_type',\n",
       " 'congestion_surcharge']"
      ]
     },
     "execution_count": 50,
     "metadata": {},
     "output_type": "execute_result"
    }
   ],
   "source": [
    "green = green \\\n",
    "        .withColumnRenamed('lpep_pickup_datetime','pickup_datetime') \\\n",
    "        .withColumnRenamed('lpep_dropoff_datetime','dropoff_datetime') \n",
    "green.columns"
   ]
  },
  {
   "cell_type": "code",
   "execution_count": 52,
   "id": "8f9f335e-5af0-4f5f-988a-66b18f5b7536",
   "metadata": {},
   "outputs": [
    {
     "data": {
      "text/plain": [
       "['VendorID',\n",
       " 'pickup_datetime',\n",
       " 'dropoff_datetime',\n",
       " 'passenger_count',\n",
       " 'trip_distance',\n",
       " 'RatecodeID',\n",
       " 'store_and_fwd_flag',\n",
       " 'PULocationID',\n",
       " 'DOLocationID',\n",
       " 'payment_type',\n",
       " 'fare_amount',\n",
       " 'extra',\n",
       " 'mta_tax',\n",
       " 'tip_amount',\n",
       " 'tolls_amount',\n",
       " 'improvement_surcharge',\n",
       " 'total_amount',\n",
       " 'congestion_surcharge']"
      ]
     },
     "execution_count": 52,
     "metadata": {},
     "output_type": "execute_result"
    }
   ],
   "source": [
    "yellow = yellow \\\n",
    "        .withColumnRenamed('tpep_pickup_datetime','pickup_datetime') \\\n",
    "        .withColumnRenamed('tpep_dropoff_datetime','dropoff_datetime') \n",
    "yellow.columns"
   ]
  },
  {
   "cell_type": "code",
   "execution_count": 54,
   "id": "d9968150-992c-4be3-8628-d628933c3680",
   "metadata": {},
   "outputs": [],
   "source": [
    "same_cols = set(green.columns) & set(yellow.columns)"
   ]
  },
  {
   "cell_type": "code",
   "execution_count": 55,
   "id": "da67dcca-6125-4a57-be6d-e976ae2898ab",
   "metadata": {},
   "outputs": [],
   "source": [
    "col_list = []\n",
    "for col in green.columns:\n",
    "    if col in same_cols:\n",
    "        col_list.append(col)"
   ]
  },
  {
   "cell_type": "code",
   "execution_count": 56,
   "id": "a2239b74-6732-46c4-8914-7f44c7e98d14",
   "metadata": {
    "scrolled": true
   },
   "outputs": [
    {
     "data": {
      "text/plain": [
       "['VendorID',\n",
       " 'pickup_datetime',\n",
       " 'dropoff_datetime',\n",
       " 'store_and_fwd_flag',\n",
       " 'RatecodeID',\n",
       " 'PULocationID',\n",
       " 'DOLocationID',\n",
       " 'passenger_count',\n",
       " 'trip_distance',\n",
       " 'fare_amount',\n",
       " 'extra',\n",
       " 'mta_tax',\n",
       " 'tip_amount',\n",
       " 'tolls_amount',\n",
       " 'improvement_surcharge',\n",
       " 'total_amount',\n",
       " 'payment_type',\n",
       " 'congestion_surcharge']"
      ]
     },
     "execution_count": 56,
     "metadata": {},
     "output_type": "execute_result"
    }
   ],
   "source": [
    "col_list"
   ]
  },
  {
   "cell_type": "code",
   "execution_count": 60,
   "id": "177e17b0-a989-447e-bf9e-4ac9076f98a9",
   "metadata": {},
   "outputs": [],
   "source": [
    "from pyspark.sql import functions as F"
   ]
  },
  {
   "cell_type": "code",
   "execution_count": 68,
   "id": "eaccea09-44dc-4932-a707-1f71473cd1b3",
   "metadata": {},
   "outputs": [],
   "source": [
    "green = green \\\n",
    "        .select(col_list) \\\n",
    "        .withColumn('service_type',F.lit('green'))"
   ]
  },
  {
   "cell_type": "code",
   "execution_count": 69,
   "id": "206166b2-0610-47a3-b1a0-b9fd9b896133",
   "metadata": {},
   "outputs": [],
   "source": [
    "yellow = yellow \\\n",
    "        .select(col_list) \\\n",
    "        .withColumn('service_type',F.lit('yellow'))"
   ]
  },
  {
   "cell_type": "code",
   "execution_count": 70,
   "id": "2f36af41-2239-4a80-93a5-180bd9d8b12d",
   "metadata": {},
   "outputs": [],
   "source": [
    "trips_data = green.unionAll(yellow)"
   ]
  },
  {
   "cell_type": "code",
   "execution_count": 71,
   "id": "b910537c-cbc1-420f-ba31-ea80dbcd4158",
   "metadata": {},
   "outputs": [
    {
     "name": "stderr",
     "output_type": "stream",
     "text": [
      "[Stage 51:=====================================================>  (24 + 1) / 25]\r"
     ]
    },
    {
     "name": "stdout",
     "output_type": "stream",
     "text": [
      "+------------+--------+\n",
      "|service_type|   count|\n",
      "+------------+--------+\n",
      "|       green| 2304517|\n",
      "|      yellow|39649199|\n",
      "+------------+--------+\n",
      "\n"
     ]
    },
    {
     "name": "stderr",
     "output_type": "stream",
     "text": [
      "                                                                                \r"
     ]
    }
   ],
   "source": [
    "trips_data.groupBy('service_type').count().show()"
   ]
  },
  {
   "cell_type": "code",
   "execution_count": 73,
   "id": "7ce44f61-6fd5-4b4f-87ce-743b11c8b413",
   "metadata": {},
   "outputs": [],
   "source": [
    "trips_data.createOrReplaceTempView('trips_data')"
   ]
  },
  {
   "cell_type": "code",
   "execution_count": 78,
   "id": "63fced6b-3c63-4607-b8b3-6c0bbd5a361a",
   "metadata": {},
   "outputs": [
    {
     "name": "stderr",
     "output_type": "stream",
     "text": [
      "[Stage 57:=====================================================>  (24 + 1) / 25]\r"
     ]
    },
    {
     "name": "stdout",
     "output_type": "stream",
     "text": [
      "+------------+--------+\n",
      "|service_type|count(1)|\n",
      "+------------+--------+\n",
      "|       green| 2304517|\n",
      "|      yellow|39649199|\n",
      "+------------+--------+\n",
      "\n"
     ]
    },
    {
     "name": "stderr",
     "output_type": "stream",
     "text": [
      "                                                                                \r"
     ]
    }
   ],
   "source": [
    "spark.sql(\"\"\"\n",
    "SELECT service_type,count(1) \n",
    "FROM trips_data\n",
    "group by service_type\n",
    "\n",
    "\"\"\").show()"
   ]
  },
  {
   "cell_type": "code",
   "execution_count": 92,
   "id": "f6e3bfc2-5a43-4291-8e5a-a5fc7fb13629",
   "metadata": {
    "scrolled": true
   },
   "outputs": [
    {
     "data": {
      "text/plain": [
       "[Row(VendorID=2, pickup_datetime=datetime.datetime(2020, 1, 29, 13, 42, 10), dropoff_datetime=datetime.datetime(2020, 1, 29, 13, 48, 24), store_and_fwd_flag='N', RatecodeID=1, PULocationID=7, DOLocationID=193, passenger_count=3, trip_distance=0.91, fare_amount=6.0, extra=0.0, mta_tax=0.5, tip_amount=1.36, tolls_amount=0.0, improvement_surcharge=0.3, total_amount=8.16, payment_type=1, congestion_surcharge=0.0, service_type='green')]"
      ]
     },
     "execution_count": 92,
     "metadata": {},
     "output_type": "execute_result"
    }
   ],
   "source": [
    "green.take(1)"
   ]
  },
  {
   "cell_type": "code",
   "execution_count": 84,
   "id": "32f9eabe-4866-4c1a-888e-f228310d4828",
   "metadata": {},
   "outputs": [],
   "source": [
    "rdd = green \\\n",
    "    .select('pickup_datetime','PULocationID','total_amount') \\\n",
    "    .rdd"
   ]
  },
  {
   "cell_type": "code",
   "execution_count": 106,
   "id": "d372570e-c933-400c-9bc0-3e398cc3ccb1",
   "metadata": {},
   "outputs": [],
   "source": [
    "rows = rdd.take(10)\n",
    "row = rows[0]"
   ]
  },
  {
   "cell_type": "code",
   "execution_count": 107,
   "id": "338a695b-761f-45e9-9af8-58f897b4049f",
   "metadata": {},
   "outputs": [
    {
     "data": {
      "text/plain": [
       "Row(pickup_datetime=datetime.datetime(2020, 1, 29, 13, 42, 10), PULocationID=7, total_amount=8.16)"
      ]
     },
     "execution_count": 107,
     "metadata": {},
     "output_type": "execute_result"
    }
   ],
   "source": [
    "row"
   ]
  },
  {
   "cell_type": "code",
   "execution_count": 113,
   "id": "229fad3b-9490-4021-9715-18e785afe0b5",
   "metadata": {},
   "outputs": [
    {
     "name": "stderr",
     "output_type": "stream",
     "text": [
      "                                                                                \r"
     ]
    },
    {
     "name": "stdout",
     "output_type": "stream",
     "text": [
      "+-------------------+----+------------------+-----+\n",
      "|               hour|zone|           revenue|count|\n",
      "+-------------------+----+------------------+-----+\n",
      "|2020-01-27 09:00:00| 207|               3.3|    1|\n",
      "|2020-01-07 16:00:00|  97|            625.44|   34|\n",
      "|2020-01-29 22:00:00| 129|244.43000000000006|   19|\n",
      "|2020-01-21 15:00:00|  41| 512.7600000000002|   39|\n",
      "|2020-01-27 22:00:00|  95|232.40000000000003|   20|\n",
      "|2020-01-11 06:00:00| 179|             42.35|    2|\n",
      "|2020-01-19 20:00:00|  97|            225.69|   19|\n",
      "|2020-01-29 21:00:00| 250|             72.43|    2|\n",
      "|2020-01-19 13:00:00|  47|             50.96|    2|\n",
      "|2020-01-31 16:00:00|  74|1166.3499999999992|   71|\n",
      "|2020-01-08 14:00:00| 212|             54.91|    4|\n",
      "|2020-01-31 19:00:00|  25|415.56000000000006|   26|\n",
      "|2020-01-25 05:00:00|  82|            147.67|   10|\n",
      "|2020-01-11 22:00:00| 260|228.85000000000005|   20|\n",
      "|2020-01-08 09:00:00| 179|156.99999999999997|    8|\n",
      "|2020-01-17 16:00:00|  75|1793.0599999999981|  109|\n",
      "|2020-01-06 17:00:00| 122|            170.81|    5|\n",
      "|2020-01-07 11:00:00|  91|             43.29|    3|\n",
      "|2020-01-22 21:00:00| 208|             29.26|    1|\n",
      "|2020-01-31 20:00:00| 134|             90.21|    7|\n",
      "+-------------------+----+------------------+-----+\n",
      "only showing top 20 rows\n",
      "\n"
     ]
    }
   ],
   "source": [
    "from datetime import datetime\n",
    "start = datetime(year=2020,month=1,day=1)\n",
    "\n",
    "def start_date(row):\n",
    "    return row.pickup_datetime>=start\n",
    "\n",
    "def prepare_for_grouping(row):\n",
    "    hour = row.pickup_datetime.replace(minute=0,second=0,microsecond=0)\n",
    "    zone = row.PULocationID\n",
    "    key = (hour,zone)\n",
    "    \n",
    "    amount = row.total_amount\n",
    "    count = 1\n",
    "    value = (amount,count)\n",
    "    \n",
    "    return (key,value)\n",
    "\n",
    "def calculate_revenue(left_value,right_value):\n",
    "    left_amount, left_count = left_value\n",
    "    right_amount, right_count = right_value\n",
    "\n",
    "    output_amount = left_amount + right_amount\n",
    "    output_count = left_count + right_count\n",
    "    output_value = (output_amount, output_count)\n",
    "    return output_value\n",
    "    \n",
    "from collections import namedtuple\n",
    "RevenueRow = namedtuple('RevenueRow',['hour','zone','revenue','count'])\n",
    "\n",
    "def unwrap(row):\n",
    "    return RevenueRow(hour=row[0][0],zone= row[0][1],revenue= row[1][0],count= row[1][1])\n",
    "\n",
    "rdd\\\n",
    "    .filter(start_date)\\\n",
    "    .map(prepare_for_grouping)\\\n",
    "    .reduceByKey(calculate_revenue)\\\n",
    "    .map(unwrap)\\\n",
    "    .toDF() \\\n",
    "    .show()"
   ]
  }
 ],
 "metadata": {
  "kernelspec": {
   "display_name": "Python 3 (ipykernel)",
   "language": "python",
   "name": "python3"
  },
  "language_info": {
   "codemirror_mode": {
    "name": "ipython",
    "version": 3
   },
   "file_extension": ".py",
   "mimetype": "text/x-python",
   "name": "python",
   "nbconvert_exporter": "python",
   "pygments_lexer": "ipython3",
   "version": "3.10.12"
  }
 },
 "nbformat": 4,
 "nbformat_minor": 5
}
