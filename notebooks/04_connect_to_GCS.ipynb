{
 "cells": [
  {
   "cell_type": "code",
   "execution_count": 1,
   "id": "7c7dcc1d-1eea-49c1-aa3a-edceaf39c404",
   "metadata": {},
   "outputs": [],
   "source": [
    "import pyspark\n",
    "from pyspark.sql import SparkSession\n",
    "from pyspark.conf import SparkConf\n",
    "from pyspark.context import SparkContext"
   ]
  },
  {
   "cell_type": "code",
   "execution_count": 2,
   "id": "3afbc982-e612-4bfe-9021-3d97cb699a02",
   "metadata": {},
   "outputs": [],
   "source": [
    "credentials_location = '/mnt/c/Users/Admin/.gcp/newyorktaxi.json'\n",
    "bucket = 'newyorktaxi-423104-bucket'\n",
    "\n",
    "conf = SparkConf() \\\n",
    "    .setMaster('local[*]') \\\n",
    "    .setAppName('test') \\\n",
    "    .set('spark.jars', \"../bin/gcs-connector-hadoop3-2.2.22.jar\") \\\n",
    "    .set(\"spark.hadoop.google.cloud.auth.service.account.enable\",\"true\") \\\n",
    "    .set(\"spark.hadoop.google.cloud.auth.service.json.keyfile\",credentials_location)"
   ]
  },
  {
   "cell_type": "code",
   "execution_count": 3,
   "id": "3f2b1077-9dc9-4f81-9b9b-66e3c7dc1b9f",
   "metadata": {},
   "outputs": [
    {
     "name": "stderr",
     "output_type": "stream",
     "text": [
      "24/05/23 15:28:30 WARN Utils: Your hostname, DESKTOP-RJFPN4L resolves to a loopback address: 127.0.1.1; using 172.24.64.142 instead (on interface eth0)\n",
      "24/05/23 15:28:30 WARN Utils: Set SPARK_LOCAL_IP if you need to bind to another address\n",
      "24/05/23 15:28:31 WARN NativeCodeLoader: Unable to load native-hadoop library for your platform... using builtin-java classes where applicable\n",
      "Setting default log level to \"WARN\".\n",
      "To adjust logging level use sc.setLogLevel(newLevel). For SparkR, use setLogLevel(newLevel).\n"
     ]
    }
   ],
   "source": [
    "sc = SparkContext(conf=conf)\n",
    "\n",
    "hadoop_conf = sc._jsc.hadoopConfiguration()\n",
    "\n",
    "hadoop_conf.set(\"fs.AbstractFileSystem.gs.impl\",  \"com.google.cloud.hadoop.fs.gcs.GoogleHadoopFS\")\n",
    "hadoop_conf.set(\"fs.gs.impl\", \"com.google.cloud.hadoop.fs.gcs.GoogleHadoopFileSystem\")\n",
    "hadoop_conf.set(\"fs.gs.auth.service.account.json.keyfile\", credentials_location)\n",
    "hadoop_conf.set(\"fs.gs.auth.service.account.enable\", \"true\")"
   ]
  },
  {
   "cell_type": "code",
   "execution_count": 4,
   "id": "35320f0f-a44a-4971-9c5d-50d6a1d9f4dc",
   "metadata": {},
   "outputs": [],
   "source": [
    "spark = SparkSession.builder \\\n",
    "    .config(conf=sc.getConf()) \\\n",
    "    .getOrCreate()"
   ]
  },
  {
   "cell_type": "code",
   "execution_count": 6,
   "id": "98aa2c89-b76e-4a6e-be6d-b9d4ce35bf86",
   "metadata": {},
   "outputs": [
    {
     "name": "stderr",
     "output_type": "stream",
     "text": [
      "                                                                                \r"
     ]
    },
    {
     "name": "stdout",
     "output_type": "stream",
     "text": [
      "+--------+--------------------+---------------------+------------------+----------+------------+------------+---------------+-------------+-----------+-----+-------+----------+------------+---------+---------------------+------------+------------+---------+--------------------+\n",
      "|VendorID|lpep_pickup_datetime|lpep_dropoff_datetime|store_and_fwd_flag|RatecodeID|PULocationID|DOLocationID|passenger_count|trip_distance|fare_amount|extra|mta_tax|tip_amount|tolls_amount|ehail_fee|improvement_surcharge|total_amount|payment_type|trip_type|congestion_surcharge|\n",
      "+--------+--------------------+---------------------+------------------+----------+------------+------------+---------------+-------------+-----------+-----+-------+----------+------------+---------+---------------------+------------+------------+---------+--------------------+\n",
      "|       2| 2020-01-29 13:42:10|  2020-01-29 13:48:24|                 N|         1|           7|         193|              3|         0.91|        6.0|  0.0|    0.5|      1.36|         0.0|     NULL|                  0.3|        8.16|           1|        1|                 0.0|\n",
      "|       2| 2020-01-24 17:39:13|  2020-01-24 17:49:10|                 N|         1|         181|         257|              1|         1.79|        8.5|  1.0|    0.5|       0.0|         0.0|     NULL|                  0.3|        10.3|           2|        1|                 0.0|\n",
      "|       2| 2020-01-27 09:14:48|  2020-01-27 09:15:35|                 N|         1|         207|         207|              1|          0.0|        2.5|  0.0|    0.5|       0.0|         0.0|     NULL|                  0.3|         3.3|           2|        1|                 0.0|\n",
      "|       2| 2020-01-07 16:13:20|  2020-01-07 16:26:45|                 N|         1|          97|         189|              2|         1.41|        9.5|  1.0|    0.5|      2.26|         0.0|     NULL|                  0.3|       13.56|           1|        1|                 0.0|\n",
      "|       2| 2020-01-03 08:05:40|  2020-01-03 08:17:11|                 N|         1|         260|           7|              3|         1.47|        9.0|  0.0|    0.5|       0.0|         0.0|     NULL|                  0.3|         9.8|           2|        1|                 0.0|\n",
      "|       2| 2020-01-29 22:02:13|  2020-01-29 22:08:55|                 N|         1|         129|          82|              1|         0.81|        5.5|  0.5|    0.5|       0.0|         0.0|     NULL|                  0.3|         6.8|           2|        1|                 0.0|\n",
      "|    NULL| 2020-01-10 16:15:00|  2020-01-10 16:42:00|              NULL|      NULL|          25|         188|           NULL|         3.73|       14.6|  0.0|    0.0|       0.0|         0.0|     NULL|                  0.3|        14.9|        NULL|     NULL|                NULL|\n",
      "|       2| 2020-01-31 10:51:35|  2020-01-31 11:04:40|                 N|         1|          74|          41|              1|         1.76|       10.0|  0.0|    0.5|       0.0|         0.0|     NULL|                  0.3|        10.8|           2|        1|                 0.0|\n",
      "|       2| 2020-01-21 15:54:44|  2020-01-21 16:04:15|                 N|         1|          41|          74|              1|         0.99|        7.5|  0.0|    0.5|       0.0|         0.0|     NULL|                  0.3|         8.3|           2|        1|                 0.0|\n",
      "|    NULL| 2020-01-28 11:22:00|  2020-01-28 11:36:00|              NULL|      NULL|         242|          31|           NULL|         2.89|      22.93| 2.75|    0.5|       0.0|         0.0|     NULL|                  0.3|       26.48|        NULL|     NULL|                NULL|\n",
      "|       2| 2020-01-27 22:24:24|  2020-01-27 22:38:48|                 N|         1|          95|         121|              1|         2.86|       12.5|  0.5|    0.5|       0.0|         0.0|     NULL|                  0.3|        13.8|           2|        1|                 0.0|\n",
      "|    NULL| 2020-01-09 12:31:00|  2020-01-09 12:35:00|              NULL|      NULL|          76|          76|           NULL|         0.37|        8.0|  0.0|    0.5|       0.0|         0.0|     NULL|                  0.3|         8.8|        NULL|     NULL|                NULL|\n",
      "|       2| 2020-01-13 15:56:03|  2020-01-13 16:18:50|                 N|         1|         116|         142|              1|         4.89|       20.5|  1.0|    0.5|       2.5|         0.0|     NULL|                  0.3|       27.55|           1|        1|                2.75|\n",
      "|       1| 2020-01-11 13:05:42|  2020-01-11 13:09:18|                 N|         1|          24|         166|              1|          0.6|        4.5|  0.0|    0.5|       0.0|         0.0|     NULL|                  0.3|         5.3|           2|        1|                 0.0|\n",
      "|       2| 2020-01-22 21:21:42|  2020-01-22 21:24:23|                 N|         1|          41|          74|              1|         0.64|        4.5|  0.5|    0.5|       2.0|         0.0|     NULL|                  0.3|         7.8|           1|        1|                 0.0|\n",
      "|    NULL| 2020-01-29 21:41:00|  2020-01-29 21:54:00|              NULL|      NULL|          74|          69|           NULL|         2.95|      20.34| 2.75|    0.0|       0.0|         0.0|     NULL|                  0.3|       23.39|        NULL|     NULL|                NULL|\n",
      "|       2| 2020-01-31 16:42:42|  2020-01-31 17:04:19|                 N|         1|         260|          82|              1|         1.48|       13.5|  1.0|    0.5|       0.0|         0.0|     NULL|                  0.3|        15.3|           2|        1|                 0.0|\n",
      "|       2| 2020-01-07 15:33:21|  2020-01-07 15:42:54|                 N|         1|           7|         226|              1|         1.14|        8.0|  0.0|    0.5|       2.2|         0.0|     NULL|                  0.3|        11.0|           1|        1|                 0.0|\n",
      "|       2| 2020-01-12 00:57:58|  2020-01-12 01:02:30|                 N|         1|         166|         151|              1|         0.76|        5.0|  0.5|    0.5|       0.0|         0.0|     NULL|                  0.3|         6.3|           2|        1|                 0.0|\n",
      "|       2| 2020-01-04 18:32:15|  2020-01-04 18:39:26|                 N|         1|         223|         223|              5|         0.81|        6.0|  0.0|    0.5|      1.36|         0.0|     NULL|                  0.3|        8.16|           1|        1|                 0.0|\n",
      "+--------+--------------------+---------------------+------------------+----------+------------+------------+---------------+-------------+-----------+-----+-------+----------+------------+---------+---------------------+------------+------------+---------+--------------------+\n",
      "only showing top 20 rows\n",
      "\n"
     ]
    }
   ],
   "source": [
    "df_green = spark.read.parquet(f'gs://{bucket}/pq/green/*/*')\n",
    "df_green.show()"
   ]
  },
  {
   "cell_type": "code",
   "execution_count": 11,
   "id": "32041ddd-ac1a-43bd-a40e-892dde840d35",
   "metadata": {},
   "outputs": [],
   "source": [
    "df_green.createOrReplaceTempView('green')"
   ]
  },
  {
   "cell_type": "code",
   "execution_count": 13,
   "id": "36e21b37-8e46-40e2-8cf3-06401cfc3be5",
   "metadata": {},
   "outputs": [
    {
     "name": "stderr",
     "output_type": "stream",
     "text": [
      "[Stage 3:====================================================>    (11 + 1) / 12]\r"
     ]
    },
    {
     "name": "stdout",
     "output_type": "stream",
     "text": [
      "+--------+\n",
      "|count(1)|\n",
      "+--------+\n",
      "| 2304517|\n",
      "+--------+\n",
      "\n"
     ]
    },
    {
     "name": "stderr",
     "output_type": "stream",
     "text": [
      "                                                                                \r"
     ]
    }
   ],
   "source": [
    "spark.sql(\"\"\"\n",
    "SELECT count(*) from green\"\"\").show()"
   ]
  },
  {
   "cell_type": "code",
   "execution_count": 15,
   "id": "6a7f93a3-2f21-4436-b458-d4cf0e413c22",
   "metadata": {},
   "outputs": [
    {
     "name": "stderr",
     "output_type": "stream",
     "text": [
      "[Stage 7:>                                                          (0 + 1) / 1]\r"
     ]
    },
    {
     "name": "stdout",
     "output_type": "stream",
     "text": [
      "+--------+--------------------+---------------------+---------------+-------------+----------+------------------+------------+------------+------------+-----------+-----+-------+----------+------------+---------------------+------------+--------------------+\n",
      "|VendorID|tpep_pickup_datetime|tpep_dropoff_datetime|passenger_count|trip_distance|RatecodeID|store_and_fwd_flag|PULocationID|DOLocationID|payment_type|fare_amount|extra|mta_tax|tip_amount|tolls_amount|improvement_surcharge|total_amount|congestion_surcharge|\n",
      "+--------+--------------------+---------------------+---------------+-------------+----------+------------------+------------+------------+------------+-----------+-----+-------+----------+------------+---------------------+------------+--------------------+\n",
      "|       2| 2020-01-08 13:40:30|  2020-01-08 13:55:37|              1|         2.61|         1|                 N|         234|         237|           1|       12.0|  0.0|    0.5|      3.06|         0.0|                  0.3|       18.36|                 2.5|\n",
      "|       1| 2020-01-11 13:27:45|  2020-01-11 13:35:38|              1|          1.6|         1|                 N|         100|         249|           1|        7.5|  2.5|    0.5|      2.15|         0.0|                  0.3|       12.95|                 2.5|\n",
      "|       2| 2020-01-04 09:57:26|  2020-01-04 10:16:50|              1|         4.39|         1|                 N|         244|         238|           2|       18.0|  0.0|    0.5|       0.0|         0.0|                  0.3|        21.3|                 2.5|\n",
      "|       1| 2020-01-13 07:22:33|  2020-01-13 07:37:27|              1|          2.3|         1|                 N|         186|         142|           2|       11.5|  2.5|    0.5|       0.0|         0.0|                  0.3|        14.8|                 2.5|\n",
      "|       1| 2020-01-31 18:09:50|  2020-01-31 18:30:32|              1|          1.9|         1|                 N|         100|         234|           1|       13.5|  3.5|    0.5|       0.0|         0.0|                  0.3|        17.8|                 2.5|\n",
      "|       1| 2020-01-19 11:13:08|  2020-01-19 11:31:05|              1|          2.9|         1|                 N|         140|          48|           2|       13.5|  3.0|    0.5|       0.0|         0.0|                  0.3|        17.3|                 2.5|\n",
      "|       1| 2020-01-28 12:48:37|  2020-01-28 12:55:45|              1|          1.0|         1|                 N|         238|         142|           2|        6.5|  2.5|    0.5|       0.0|         0.0|                  0.3|         9.8|                 2.5|\n",
      "|       1| 2020-01-13 12:01:37|  2020-01-13 12:06:31|              1|          0.8|         1|                 N|          41|         151|           2|        5.5|  0.0|    0.5|       0.0|         0.0|                  0.3|         6.3|                 0.0|\n",
      "|       2| 2020-01-27 19:14:53|  2020-01-27 19:29:15|              1|         2.41|         1|                 N|         239|         263|           1|       12.0|  1.0|    0.5|      3.26|         0.0|                  0.3|       19.56|                 2.5|\n",
      "|       2| 2020-01-30 20:29:52|  2020-01-30 20:35:31|              1|         1.83|         1|                 N|         141|          75|           2|        7.5|  0.5|    0.5|       0.0|         0.0|                  0.3|        11.3|                 2.5|\n",
      "|       2| 2020-01-30 20:02:51|  2020-01-30 20:08:55|              1|         0.59|         1|                 N|         162|         229|           1|        5.5|  0.5|    0.5|      1.86|         0.0|                  0.3|       11.16|                 2.5|\n",
      "|       1| 2020-01-12 12:36:28|  2020-01-12 12:42:53|              2|          1.2|         1|                 N|          87|          45|           2|        6.5|  2.5|    0.5|       0.0|         0.0|                  0.3|         9.8|                 2.5|\n",
      "|       1| 2020-01-09 13:59:20|  2020-01-09 14:03:33|              1|          0.6|         1|                 N|         125|         211|           1|        5.0|  2.5|    0.5|      2.05|         0.0|                  0.3|       10.35|                 2.5|\n",
      "|       2| 2020-01-26 04:43:57|  2020-01-26 04:46:24|              1|         0.32|         1|                 N|          79|         107|           2|        3.5|  0.5|    0.5|       0.0|         0.0|                  0.3|         7.3|                 2.5|\n",
      "|       1| 2020-01-18 18:59:38|  2020-01-18 19:13:04|              4|          1.9|         1|                 N|         246|         113|           2|       10.0|  2.5|    0.5|       0.0|         0.0|                  0.3|        13.3|                 2.5|\n",
      "|       2| 2020-01-18 15:06:22|  2020-01-18 15:13:39|              6|         1.22|         1|                 N|         246|         234|           2|        6.5|  0.0|    0.5|       0.0|         0.0|                  0.3|         9.8|                 2.5|\n",
      "|       2| 2020-01-08 14:55:02|  2020-01-08 15:26:08|              1|          4.6|         1|                 N|         114|         143|           1|       21.5|  0.0|    0.5|       4.0|         0.0|                  0.3|        28.8|                 2.5|\n",
      "|       2| 2020-01-11 09:00:22|  2020-01-11 09:17:56|              1|         6.91|         1|                 N|         261|         237|           1|       22.0|  0.0|    0.5|       1.8|         0.0|                  0.3|        27.1|                 2.5|\n",
      "|       1| 2020-01-09 19:59:53|  2020-01-09 20:08:32|              1|          1.4|         1|                 N|         161|         237|           1|        8.0|  3.5|    0.5|       1.0|         0.0|                  0.3|        13.3|                 2.5|\n",
      "|       2| 2020-01-24 11:57:17|  2020-01-24 12:08:02|              1|         1.51|         1|                 N|         163|         140|           1|        8.5|  0.0|    0.5|      2.36|         0.0|                  0.3|       14.16|                 2.5|\n",
      "+--------+--------------------+---------------------+---------------+-------------+----------+------------------+------------+------------+------------+-----------+-----+-------+----------+------------+---------------------+------------+--------------------+\n",
      "only showing top 20 rows\n",
      "\n"
     ]
    },
    {
     "name": "stderr",
     "output_type": "stream",
     "text": [
      "                                                                                \r"
     ]
    }
   ],
   "source": [
    "df_yellow = spark.read.parquet(f'gs://{bucket}/pq/yellow/*/*')\n",
    "df_yellow.show()"
   ]
  },
  {
   "cell_type": "code",
   "execution_count": 16,
   "id": "241afa7b-3836-4601-b736-a3fbd58474a2",
   "metadata": {},
   "outputs": [
    {
     "name": "stderr",
     "output_type": "stream",
     "text": [
      "[Stage 8:====================================================>    (12 + 1) / 13]\r"
     ]
    },
    {
     "name": "stdout",
     "output_type": "stream",
     "text": [
      "+--------+\n",
      "|count(1)|\n",
      "+--------+\n",
      "|39649199|\n",
      "+--------+\n",
      "\n"
     ]
    },
    {
     "name": "stderr",
     "output_type": "stream",
     "text": [
      "                                                                                \r"
     ]
    }
   ],
   "source": [
    "df_yellow.createOrReplaceTempView('yellow')\n",
    "spark.sql(\"\"\"\n",
    "SELECT count(*) from yellow\"\"\").show()"
   ]
  }
 ],
 "metadata": {
  "kernelspec": {
   "display_name": "Python 3 (ipykernel)",
   "language": "python",
   "name": "python3"
  },
  "language_info": {
   "codemirror_mode": {
    "name": "ipython",
    "version": 3
   },
   "file_extension": ".py",
   "mimetype": "text/x-python",
   "name": "python",
   "nbconvert_exporter": "python",
   "pygments_lexer": "ipython3",
   "version": "3.10.12"
  }
 },
 "nbformat": 4,
 "nbformat_minor": 5
}
