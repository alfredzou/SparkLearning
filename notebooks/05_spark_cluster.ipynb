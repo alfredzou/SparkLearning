{
 "cells": [
  {
   "cell_type": "code",
   "execution_count": 1,
   "id": "c531ffe6-8103-4613-ac48-f6d46872990b",
   "metadata": {},
   "outputs": [
    {
     "name": "stderr",
     "output_type": "stream",
     "text": [
      "24/05/23 18:33:31 WARN Utils: Your hostname, DESKTOP-RJFPN4L resolves to a loopback address: 127.0.1.1; using 172.24.64.142 instead (on interface eth0)\n",
      "24/05/23 18:33:31 WARN Utils: Set SPARK_LOCAL_IP if you need to bind to another address\n",
      "Setting default log level to \"WARN\".\n",
      "To adjust logging level use sc.setLogLevel(newLevel). For SparkR, use setLogLevel(newLevel).\n",
      "24/05/23 18:33:32 WARN NativeCodeLoader: Unable to load native-hadoop library for your platform... using builtin-java classes where applicable\n",
      "24/05/23 18:33:34 WARN Utils: Service 'SparkUI' could not bind on port 4040. Attempting port 4041.\n",
      "24/05/23 18:33:34 WARN Utils: Service 'SparkUI' could not bind on port 4041. Attempting port 4042.\n"
     ]
    }
   ],
   "source": [
    "from pyspark.sql import SparkSession, types\n",
    "\n",
    "spark = SparkSession.builder \\\n",
    "        .master(\"spark://DESKTOP-RJFPN4L.:7077\") \\\n",
    "        .appName('test') \\\n",
    "        .getOrCreate()"
   ]
  },
  {
   "cell_type": "code",
   "execution_count": 2,
   "id": "c3687f08-5e11-40cd-a531-5f35b774491f",
   "metadata": {},
   "outputs": [
    {
     "name": "stderr",
     "output_type": "stream",
     "text": [
      "24/05/23 18:34:24 WARN TaskSchedulerImpl: Initial job has not accepted any resources; check your cluster UI to ensure that workers are registered and have sufficient resources\n",
      "24/05/23 18:34:39 WARN TaskSchedulerImpl: Initial job has not accepted any resources; check your cluster UI to ensure that workers are registered and have sufficient resources\n",
      "24/05/23 18:34:54 WARN TaskSchedulerImpl: Initial job has not accepted any resources; check your cluster UI to ensure that workers are registered and have sufficient resources\n",
      "24/05/23 18:35:09 WARN TaskSchedulerImpl: Initial job has not accepted any resources; check your cluster UI to ensure that workers are registered and have sufficient resources\n",
      "24/05/23 18:35:24 WARN TaskSchedulerImpl: Initial job has not accepted any resources; check your cluster UI to ensure that workers are registered and have sufficient resources\n",
      "                                                                                \r"
     ]
    },
    {
     "name": "stdout",
     "output_type": "stream",
     "text": [
      "+--------+--------------------+---------------------+------------------+----------+------------+------------+---------------+-------------+-----------+-----+-------+----------+------------+---------+---------------------+------------+------------+---------+--------------------+\n",
      "|VendorID|lpep_pickup_datetime|lpep_dropoff_datetime|store_and_fwd_flag|RatecodeID|PULocationID|DOLocationID|passenger_count|trip_distance|fare_amount|extra|mta_tax|tip_amount|tolls_amount|ehail_fee|improvement_surcharge|total_amount|payment_type|trip_type|congestion_surcharge|\n",
      "+--------+--------------------+---------------------+------------------+----------+------------+------------+---------------+-------------+-----------+-----+-------+----------+------------+---------+---------------------+------------+------------+---------+--------------------+\n",
      "|       2| 2020-01-29 13:42:10|  2020-01-29 13:48:24|                 N|         1|           7|         193|              3|         0.91|        6.0|  0.0|    0.5|      1.36|         0.0|     NULL|                  0.3|        8.16|           1|        1|                 0.0|\n",
      "|       2| 2020-01-24 17:39:13|  2020-01-24 17:49:10|                 N|         1|         181|         257|              1|         1.79|        8.5|  1.0|    0.5|       0.0|         0.0|     NULL|                  0.3|        10.3|           2|        1|                 0.0|\n",
      "|       2| 2020-01-27 09:14:48|  2020-01-27 09:15:35|                 N|         1|         207|         207|              1|          0.0|        2.5|  0.0|    0.5|       0.0|         0.0|     NULL|                  0.3|         3.3|           2|        1|                 0.0|\n",
      "|       2| 2020-01-07 16:13:20|  2020-01-07 16:26:45|                 N|         1|          97|         189|              2|         1.41|        9.5|  1.0|    0.5|      2.26|         0.0|     NULL|                  0.3|       13.56|           1|        1|                 0.0|\n",
      "|       2| 2020-01-03 08:05:40|  2020-01-03 08:17:11|                 N|         1|         260|           7|              3|         1.47|        9.0|  0.0|    0.5|       0.0|         0.0|     NULL|                  0.3|         9.8|           2|        1|                 0.0|\n",
      "|       2| 2020-01-29 22:02:13|  2020-01-29 22:08:55|                 N|         1|         129|          82|              1|         0.81|        5.5|  0.5|    0.5|       0.0|         0.0|     NULL|                  0.3|         6.8|           2|        1|                 0.0|\n",
      "|    NULL| 2020-01-10 16:15:00|  2020-01-10 16:42:00|              NULL|      NULL|          25|         188|           NULL|         3.73|       14.6|  0.0|    0.0|       0.0|         0.0|     NULL|                  0.3|        14.9|        NULL|     NULL|                NULL|\n",
      "|       2| 2020-01-31 10:51:35|  2020-01-31 11:04:40|                 N|         1|          74|          41|              1|         1.76|       10.0|  0.0|    0.5|       0.0|         0.0|     NULL|                  0.3|        10.8|           2|        1|                 0.0|\n",
      "|       2| 2020-01-21 15:54:44|  2020-01-21 16:04:15|                 N|         1|          41|          74|              1|         0.99|        7.5|  0.0|    0.5|       0.0|         0.0|     NULL|                  0.3|         8.3|           2|        1|                 0.0|\n",
      "|    NULL| 2020-01-28 11:22:00|  2020-01-28 11:36:00|              NULL|      NULL|         242|          31|           NULL|         2.89|      22.93| 2.75|    0.5|       0.0|         0.0|     NULL|                  0.3|       26.48|        NULL|     NULL|                NULL|\n",
      "|       2| 2020-01-27 22:24:24|  2020-01-27 22:38:48|                 N|         1|          95|         121|              1|         2.86|       12.5|  0.5|    0.5|       0.0|         0.0|     NULL|                  0.3|        13.8|           2|        1|                 0.0|\n",
      "|    NULL| 2020-01-09 12:31:00|  2020-01-09 12:35:00|              NULL|      NULL|          76|          76|           NULL|         0.37|        8.0|  0.0|    0.5|       0.0|         0.0|     NULL|                  0.3|         8.8|        NULL|     NULL|                NULL|\n",
      "|       2| 2020-01-13 15:56:03|  2020-01-13 16:18:50|                 N|         1|         116|         142|              1|         4.89|       20.5|  1.0|    0.5|       2.5|         0.0|     NULL|                  0.3|       27.55|           1|        1|                2.75|\n",
      "|       1| 2020-01-11 13:05:42|  2020-01-11 13:09:18|                 N|         1|          24|         166|              1|          0.6|        4.5|  0.0|    0.5|       0.0|         0.0|     NULL|                  0.3|         5.3|           2|        1|                 0.0|\n",
      "|       2| 2020-01-22 21:21:42|  2020-01-22 21:24:23|                 N|         1|          41|          74|              1|         0.64|        4.5|  0.5|    0.5|       2.0|         0.0|     NULL|                  0.3|         7.8|           1|        1|                 0.0|\n",
      "|    NULL| 2020-01-29 21:41:00|  2020-01-29 21:54:00|              NULL|      NULL|          74|          69|           NULL|         2.95|      20.34| 2.75|    0.0|       0.0|         0.0|     NULL|                  0.3|       23.39|        NULL|     NULL|                NULL|\n",
      "|       2| 2020-01-31 16:42:42|  2020-01-31 17:04:19|                 N|         1|         260|          82|              1|         1.48|       13.5|  1.0|    0.5|       0.0|         0.0|     NULL|                  0.3|        15.3|           2|        1|                 0.0|\n",
      "|       2| 2020-01-07 15:33:21|  2020-01-07 15:42:54|                 N|         1|           7|         226|              1|         1.14|        8.0|  0.0|    0.5|       2.2|         0.0|     NULL|                  0.3|        11.0|           1|        1|                 0.0|\n",
      "|       2| 2020-01-12 00:57:58|  2020-01-12 01:02:30|                 N|         1|         166|         151|              1|         0.76|        5.0|  0.5|    0.5|       0.0|         0.0|     NULL|                  0.3|         6.3|           2|        1|                 0.0|\n",
      "|       2| 2020-01-04 18:32:15|  2020-01-04 18:39:26|                 N|         1|         223|         223|              5|         0.81|        6.0|  0.0|    0.5|      1.36|         0.0|     NULL|                  0.3|        8.16|           1|        1|                 0.0|\n",
      "+--------+--------------------+---------------------+------------------+----------+------------+------------+---------------+-------------+-----------+-----+-------+----------+------------+---------+---------------------+------------+------------+---------+--------------------+\n",
      "only showing top 20 rows\n",
      "\n"
     ]
    },
    {
     "name": "stderr",
     "output_type": "stream",
     "text": [
      "24/05/23 18:40:34 ERROR StandaloneSchedulerBackend: Application has been killed. Reason: Master removed our application: KILLED\n",
      "24/05/23 18:40:34 ERROR Inbox: Ignoring error\n",
      "org.apache.spark.SparkException: Exiting due to error from cluster scheduler: Master removed our application: KILLED\n",
      "\tat org.apache.spark.errors.SparkCoreErrors$.clusterSchedulerError(SparkCoreErrors.scala:291)\n",
      "\tat org.apache.spark.scheduler.TaskSchedulerImpl.error(TaskSchedulerImpl.scala:981)\n",
      "\tat org.apache.spark.scheduler.cluster.StandaloneSchedulerBackend.dead(StandaloneSchedulerBackend.scala:165)\n",
      "\tat org.apache.spark.deploy.client.StandaloneAppClient$ClientEndpoint.markDead(StandaloneAppClient.scala:263)\n",
      "\tat org.apache.spark.deploy.client.StandaloneAppClient$ClientEndpoint$$anonfun$receive$1.applyOrElse(StandaloneAppClient.scala:170)\n",
      "\tat org.apache.spark.rpc.netty.Inbox.$anonfun$process$1(Inbox.scala:115)\n",
      "\tat org.apache.spark.rpc.netty.Inbox.safelyCall(Inbox.scala:213)\n",
      "\tat org.apache.spark.rpc.netty.Inbox.process(Inbox.scala:100)\n",
      "\tat org.apache.spark.rpc.netty.MessageLoop.org$apache$spark$rpc$netty$MessageLoop$$receiveLoop(MessageLoop.scala:75)\n",
      "\tat org.apache.spark.rpc.netty.MessageLoop$$anon$1.run(MessageLoop.scala:41)\n",
      "\tat java.base/java.util.concurrent.ThreadPoolExecutor.runWorker(ThreadPoolExecutor.java:1136)\n",
      "\tat java.base/java.util.concurrent.ThreadPoolExecutor$Worker.run(ThreadPoolExecutor.java:635)\n",
      "\tat java.base/java.lang.Thread.run(Thread.java:842)\n"
     ]
    }
   ],
   "source": [
    "green = spark.read.parquet('../data/pq/green/*/*/')\n",
    "green.show()"
   ]
  }
 ],
 "metadata": {
  "kernelspec": {
   "display_name": "Python 3 (ipykernel)",
   "language": "python",
   "name": "python3"
  },
  "language_info": {
   "codemirror_mode": {
    "name": "ipython",
    "version": 3
   },
   "file_extension": ".py",
   "mimetype": "text/x-python",
   "name": "python",
   "nbconvert_exporter": "python",
   "pygments_lexer": "ipython3",
   "version": "3.10.12"
  }
 },
 "nbformat": 4,
 "nbformat_minor": 5
}
